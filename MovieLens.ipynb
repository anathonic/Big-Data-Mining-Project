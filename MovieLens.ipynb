{
 "cells": [
  {
   "cell_type": "code",
   "execution_count": null,
   "id": "6f8ba8bc",
   "metadata": {},
   "outputs": [],
   "source": [
    "import pandas as pd\n",
    "import numpy as np\n",
    "import requests\n",
    "from sklearn.model_selection import train_test_split\n",
    "from sklearn.feature_extraction.text import TfidfVectorizer\n",
    "from sklearn.tree import DecisionTreeRegressor\n",
    "from sklearn.ensemble import RandomForestRegressor, GradientBoostingRegressor\n",
    "from sklearn.linear_model import LinearRegression\n",
    "from sklearn.metrics import mean_squared_error, r2_score\n",
    "import matplotlib.pyplot as plt\n",
    "from tqdm import tqdm\n",
    "import shap"
   ]
  },
  {
   "cell_type": "code",
   "execution_count": null,
   "id": "68344343",
   "metadata": {},
   "outputs": [],
   "source": [
    "movies = pd.read_csv('ml-latest-small/movies.csv')\n",
    "ratings = pd.read_csv('ml-latest-small/ratings.csv', usecols = ['userId', 'movieId', 'rating'])\n",
    "tags = pd.read_csv('ml-latest-small/tags.csv', usecols = ['userId', 'movieId', 'tag'])\n",
    "links = pd.read_csv('ml-latest-small/links.csv')"
   ]
  },
  {
   "cell_type": "code",
   "execution_count": null,
   "id": "0fee59e7-386d-4d46-85aa-128f1e2bc144",
   "metadata": {},
   "outputs": [],
   "source": [
    "g = {i:lambda x: '|'.join(list(x)) for i in tags.columns[2:]}\n",
    "tags = tags.groupby(['userId', 'movieId']).agg(g).reset_index()\n",
    "movies = pd.merge(movies, links, on=['movieId'])\n",
    "reviews = pd.merge(ratings, tags, on=['userId', 'movieId'])"
   ]
  },
  {
   "cell_type": "code",
   "execution_count": null,
   "id": "f821e06b",
   "metadata": {},
   "outputs": [],
   "source": [
    "print(\"Movies head:\\n\", movies.head())\n",
    "print(\"Reviews head:\\n\", reviews.head())"
   ]
  },
  {
   "cell_type": "code",
   "execution_count": null,
   "id": "b8ad9273-f067-4216-8c7f-e249e75cd221",
   "metadata": {},
   "outputs": [],
   "source": [
    "ratings_df = reviews.groupby(by=['rating']).agg({'userId': 'count'}).rename(columns={'userId': 'count'}).reset_index()\n",
    "plt.bar(ratings_df['rating'], ratings_df['count'], align='center', width=0.3)\n",
    "plt.xticks(ratings_df['rating'])\n",
    "plt.title(\"Rating vs Count\")\n",
    "plt.xlabel(\"Rating\")\n",
    "plt.ylabel(\"Count\")"
   ]
  },
  {
   "cell_type": "code",
   "execution_count": null,
   "id": "fecf65e5-10bf-4a28-afdf-305fde0bc64f",
   "metadata": {},
   "outputs": [],
   "source": [
    "display(movies)"
   ]
  },
  {
   "cell_type": "code",
   "execution_count": null,
   "id": "f07e4bac",
   "metadata": {},
   "outputs": [],
   "source": [
    "data = pd.merge(ratings, tags, on=['userId', 'movieId'], how='left')\n",
    "data = pd.merge(data, movies, on='movieId', how='left')\n",
    "data = data.dropna()"
   ]
  },
  {
   "cell_type": "code",
   "execution_count": null,
   "id": "9a302726",
   "metadata": {},
   "outputs": [],
   "source": [
    "vectorizer = TfidfVectorizer(stop_words='english', max_features=500)\n",
    "data['tag'] = data['tag'].fillna('')\n",
    "data['tags_combined'] = data.groupby('movieId')['tag'].transform(lambda x: ' '.join(x))\n",
    "X_tags = vectorizer.fit_transform(data['tags_combined']).toarray()"
   ]
  },
  {
   "cell_type": "code",
   "execution_count": null,
   "id": "827a33df",
   "metadata": {},
   "outputs": [],
   "source": [
    "genres = data['genres'].str.get_dummies('|')"
   ]
  },
  {
   "cell_type": "code",
   "execution_count": null,
   "id": "283988b2",
   "metadata": {},
   "outputs": [],
   "source": [
    "X = np.hstack((X_tags, genres.values))"
   ]
  },
  {
   "cell_type": "code",
   "execution_count": null,
   "id": "1307f2bc",
   "metadata": {},
   "outputs": [],
   "source": [
    "y = data['rating']"
   ]
  },
  {
   "cell_type": "code",
   "execution_count": null,
   "id": "ddb21dc2",
   "metadata": {},
   "outputs": [],
   "source": [
    "X_train, X_test, y_train, y_test = train_test_split(X, y, test_size=0.2, random_state=42)"
   ]
  },
  {
   "cell_type": "code",
   "execution_count": null,
   "id": "34650662",
   "metadata": {},
   "outputs": [],
   "source": [
    "models = {\n",
    "    'DecisionTree': DecisionTreeRegressor(),\n",
    "    'RandomForest': RandomForestRegressor(n_estimators=100, random_state=42),\n",
    "    'GradientBoosting': GradientBoostingRegressor(),\n",
    "    'LinearRegression': LinearRegression()\n",
    "}"
   ]
  },
  {
   "cell_type": "code",
   "execution_count": null,
   "id": "79ad96f8",
   "metadata": {},
   "outputs": [],
   "source": [
    "for name, model in models.items():\n",
    "    model.fit(X_train, y_train)\n",
    "    y_pred = model.predict(X_test)\n",
    "    print(f\"Model: {name}\")\n",
    "    print(f\"Mean Squared Error: {mean_squared_error(y_test, y_pred)}\")\n",
    "    print(f\"R^2 Score: {r2_score(y_test, y_pred)}\")"
   ]
  },
  {
   "cell_type": "code",
   "execution_count": null,
   "id": "0e64dc38",
   "metadata": {},
   "outputs": [],
   "source": [
    "model = models['RandomForest']\n",
    "importances = model.feature_importances_\n",
    "feature_importances = pd.Series(importances, index=vectorizer.get_feature_names_out().tolist() + list(genres.columns)).sort_values(ascending=False)"
   ]
  },
  {
   "cell_type": "code",
   "execution_count": null,
   "id": "e8f93417",
   "metadata": {},
   "outputs": [],
   "source": [
    "top_features = feature_importances.head(10)"
   ]
  },
  {
   "cell_type": "code",
   "execution_count": null,
   "id": "1a1eb0b6-3aba-4277-9bd3-b06a8941a2f2",
   "metadata": {},
   "outputs": [],
   "source": [
    "print(top_features)"
   ]
  },
  {
   "cell_type": "code",
   "execution_count": null,
   "id": "6e1e32e0",
   "metadata": {},
   "outputs": [],
   "source": [
    "plt.figure(figsize=(10, 6))\n",
    "top_features.plot(kind='barh')\n",
    "plt.xlabel('Feature Importance')\n",
    "plt.ylabel('Features')\n",
    "plt.title('Most Important Features for Predicting Movie Ratings')\n",
    "plt.show()"
   ]
  },
  {
   "cell_type": "code",
   "execution_count": null,
   "id": "c5d81d14",
   "metadata": {},
   "outputs": [],
   "source": [
    "def prepare_features(new_movie_tags, new_movie_genres, tfidf, genre_columns):\n",
    "\n",
    "    tag_features = tfidf.transform([new_movie_tags]).toarray()\n",
    "    \n",
    "\n",
    "    genres = new_movie_genres.split('|')\n",
    "    genre_features = pd.DataFrame(columns=genre_columns, data=[[1 if genre in genres else 0 for genre in genre_columns]])\n",
    "    \n",
    "\n",
    "    features = np.hstack((tag_features, genre_features.values))\n",
    "    return features"
   ]
  },
  {
   "cell_type": "code",
   "execution_count": null,
   "id": "3fe1f535",
   "metadata": {},
   "outputs": [],
   "source": [
    "new_movie_tags = \"action packed, thrilling\"\n",
    "new_movie_genres = \"Action|Adventure|Sci-Fi\""
   ]
  },
  {
   "cell_type": "code",
   "execution_count": null,
   "id": "f78d9bff",
   "metadata": {},
   "outputs": [],
   "source": [
    "new_movie_features = prepare_features(new_movie_tags, new_movie_genres, vectorizer, genres.columns)\n",
    "\n",
    "predicted_rating = model.predict(new_movie_features)\n",
    "print(f'Predicted Rating: {predicted_rating[0]}')"
   ]
  },
  {
   "cell_type": "code",
   "execution_count": null,
   "id": "0fbd9e40",
   "metadata": {},
   "outputs": [],
   "source": [
    "explainer = shap.TreeExplainer(model, feature_perturbation=\"interventional\")\n",
    "shap_values = explainer.shap_values(X_test)"
   ]
  },
  {
   "cell_type": "code",
   "execution_count": null,
   "id": "65d4eb2b",
   "metadata": {},
   "outputs": [],
   "source": [
    "shap.summary_plot(shap_values, X_test, plot_type=\"bar\")"
   ]
  },
  {
   "cell_type": "code",
   "execution_count": null,
   "id": "da322ab8",
   "metadata": {},
   "outputs": [],
   "source": [
    "shap.initjs()\n",
    "shap.force_plot(explainer.expected_value, shap_values[0], X_test[0])"
   ]
  }
 ],
 "metadata": {
  "kernelspec": {
   "display_name": "Python 3 (ipykernel)",
   "language": "python",
   "name": "python3"
  },
  "language_info": {
   "codemirror_mode": {
    "name": "ipython",
    "version": 3
   },
   "file_extension": ".py",
   "mimetype": "text/x-python",
   "name": "python",
   "nbconvert_exporter": "python",
   "pygments_lexer": "ipython3",
   "version": "3.10.12"
  }
 },
 "nbformat": 4,
 "nbformat_minor": 5
}
