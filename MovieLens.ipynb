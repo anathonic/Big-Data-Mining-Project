{
 "cells": [
  {
   "cell_type": "code",
   "execution_count": null,
   "id": "6f8ba8bc",
   "metadata": {},
   "outputs": [],
   "source": [
    "import pandas as pd\n",
    "import numpy as np\n",
    "import requests\n",
    "from sklearn.model_selection import train_test_split\n",
    "from sklearn.feature_extraction.text import TfidfVectorizer\n",
    "from sklearn.tree import DecisionTreeRegressor\n",
    "from sklearn.ensemble import RandomForestRegressor, GradientBoostingRegressor\n",
    "from sklearn.linear_model import LinearRegression\n",
    "from sklearn.metrics import mean_squared_error, r2_score\n",
    "import matplotlib.pyplot as plt\n",
    "from tqdm import tqdm\n",
    "import shap"
   ]
  },
  {
   "cell_type": "code",
   "execution_count": null,
   "id": "68344343",
   "metadata": {},
   "outputs": [],
   "source": [
    "movies = pd.read_csv('ml-latest-small/movies.csv')\n",
    "ratings = pd.read_csv('ml-latest-small/ratings.csv', usecols = ['userId', 'movieId', 'rating'])\n",
    "tags = pd.read_csv('ml-latest-small/tags.csv', usecols = ['userId', 'movieId', 'tag'])\n",
    "links = pd.read_csv('ml-latest-small/links.csv')"
   ]
  },
  {
   "cell_type": "code",
   "execution_count": null,
   "id": "0fee59e7-386d-4d46-85aa-128f1e2bc144",
   "metadata": {},
   "outputs": [],
   "source": [
    "g = {i:lambda x: '|'.join(list(x)) for i in tags.columns[2:]}\n",
    "tags = tags.groupby(['userId', 'movieId']).agg(g).reset_index()\n",
    "movies = pd.merge(movies, links, on=['movieId'])\n",
    "reviews = pd.merge(ratings, tags, on=['userId', 'movieId'])"
   ]
  },
  {
   "cell_type": "code",
   "execution_count": null,
   "id": "f821e06b",
   "metadata": {},
   "outputs": [],
   "source": [
    "print(\"Movies head:\\n\", movies.head())\n",
    "print(\"Reviews head:\\n\", reviews.head())"
   ]
  },
  {
   "cell_type": "code",
   "execution_count": null,
   "id": "ea04a4e3-d016-4434-b372-ab635a6e2348",
   "metadata": {},
   "outputs": [],
   "source": [
    "movies_info = (movies.shape[1], movies.shape[0])\n",
    "ratings_info = (ratings.shape[1], ratings.shape[0])\n",
    "tags_info = (tags.shape[1], tags.shape[0])\n",
    "links_info = (links.shape[1], links.shape[0])\n",
    "\n",
    "print(f\"Movies: {movies_info[1]} records, {movies_info[0]} attributes\")\n",
    "print(f\"Ratings: {ratings_info[1]} records, {ratings_info[0]} attributes\")\n",
    "print(f\"Tags: {tags_info[1]} records, {tags_info[0]} attributes\")\n",
    "print(f\"Links: {links_info[1]} records, {links_info[0]} attributes\")"
   ]
  },
  {
   "cell_type": "code",
   "execution_count": null,
   "id": "b8ad9273-f067-4216-8c7f-e249e75cd221",
   "metadata": {},
   "outputs": [],
   "source": [
    "ratings_df = reviews.groupby(by=['rating']).agg({'userId': 'count'}).rename(columns={'userId': 'count'}).reset_index()\n",
    "plt.bar(ratings_df['rating'], ratings_df['count'], align='center', width=0.3)\n",
    "plt.xticks(ratings_df['rating'])\n",
    "plt.title(\"Rating vs Count\")\n",
    "plt.xlabel(\"Rating\")\n",
    "plt.ylabel(\"Count\")"
   ]
  },
  {
   "cell_type": "code",
   "execution_count": null,
   "id": "fecf65e5-10bf-4a28-afdf-305fde0bc64f",
   "metadata": {},
   "outputs": [],
   "source": [
    "display(movies)"
   ]
  },
  {
   "cell_type": "code",
   "execution_count": null,
   "id": "f07e4bac",
   "metadata": {},
   "outputs": [],
   "source": [
    "vectorizer = TfidfVectorizer()\n",
    "tag_matrix = vectorizer.fit_transform(reviews['tag'].fillna(''))\n",
    "\n",
    "X = tag_matrix.toarray()\n",
    "y = reviews['rating']"
   ]
  },
  {
   "cell_type": "code",
   "execution_count": null,
   "id": "ddb21dc2",
   "metadata": {},
   "outputs": [],
   "source": [
    "X_train, X_test, y_train, y_test = train_test_split(X, y, test_size=0.2, random_state=42)"
   ]
  },
  {
   "cell_type": "code",
   "execution_count": null,
   "id": "34650662",
   "metadata": {},
   "outputs": [],
   "source": [
    "models = {\n",
    "    'DecisionTree': DecisionTreeRegressor(),\n",
    "    'RandomForest': RandomForestRegressor(n_estimators=100, random_state=42),\n",
    "    'GradientBoosting': GradientBoostingRegressor(),\n",
    "    'LinearRegression': LinearRegression()\n",
    "}"
   ]
  },
  {
   "cell_type": "code",
   "execution_count": null,
   "id": "79ad96f8",
   "metadata": {},
   "outputs": [],
   "source": [
    "results = {}\n",
    "for name, model in models.items():\n",
    "    model.fit(X_train, y_train)\n",
    "    y_pred = model.predict(X_test)\n",
    "    mse = mean_squared_error(y_test, y_pred)\n",
    "    r2 = r2_score(y_test, y_pred)\n",
    "    results[name] = {'MSE': mse, 'R²': r2}\n",
    "    print(f'{name} - MSE: {mse}, R²: {r2}')"
   ]
  },
  {
   "cell_type": "code",
   "execution_count": null,
   "id": "0e64dc38",
   "metadata": {},
   "outputs": [],
   "source": [
    "model = models['RandomForest']"
   ]
  },
  {
   "cell_type": "code",
   "execution_count": null,
   "id": "c5d81d14",
   "metadata": {},
   "outputs": [],
   "source": [
    "def prepare_features(new_movie_tags, tfidf):\n",
    "    tag_features = tfidf.transform([new_movie_tags]).toarray()\n",
    "    return tag_features"
   ]
  },
  {
   "cell_type": "code",
   "execution_count": null,
   "id": "3fe1f535",
   "metadata": {},
   "outputs": [],
   "source": [
    "new_movie_tags = [\"action packed, thrilling\", \"romantic, comedy\", \"suspenseful, mysterious\"]\n",
    "new_movie_features = [prepare_features(tags, vectorizer) for tags in new_movie_tags]"
   ]
  },
  {
   "cell_type": "code",
   "execution_count": null,
   "id": "f78d9bff",
   "metadata": {},
   "outputs": [],
   "source": [
    "for tags, features in zip(new_movie_tags, new_movie_features):\n",
    "    predicted_rating = model.predict(features)\n",
    "    print(f'Predicted Rating for \"{tags}\": {predicted_rating[0]}')"
   ]
  },
  {
   "cell_type": "code",
   "execution_count": null,
   "id": "0fbd9e40",
   "metadata": {},
   "outputs": [],
   "source": [
    "explainer = shap.Explainer(model)\n",
    "shap_values = explainer(X_test, check_additivity=False)\n",
    "for i in tqdm(range(len(X_test)), desc=\"Calculating SHAP values\"):\n",
    "    shap_values.append(explainer(X_test[i], check_additivity=False))\n",
    "shap_values = np.array(shap_values)"
   ]
  },
  {
   "cell_type": "code",
   "execution_count": null,
   "id": "65d4eb2b",
   "metadata": {},
   "outputs": [],
   "source": [
    "shap_values_array = np.vstack(shap_values)\n",
    "\n",
    "print(shap_values_array.shape)"
   ]
  },
  {
   "cell_type": "code",
   "execution_count": null,
   "id": "1efef9ea-fdc8-4fac-8f8e-144d1331e4ac",
   "metadata": {},
   "outputs": [],
   "source": [
    "shap.summary_plot(shap_values, X_test, feature_names=vectorizer.get_feature_names_out())"
   ]
  },
  {
   "cell_type": "code",
   "execution_count": null,
   "id": "da322ab8",
   "metadata": {},
   "outputs": [],
   "source": [
    "shap.initjs()\n",
    "shap.force_plot(explainer.expected_value, shap_values[0], X_test[0])"
   ]
  }
 ],
 "metadata": {
  "kernelspec": {
   "display_name": "Python 3 (ipykernel)",
   "language": "python",
   "name": "python3"
  },
  "language_info": {
   "codemirror_mode": {
    "name": "ipython",
    "version": 3
   },
   "file_extension": ".py",
   "mimetype": "text/x-python",
   "name": "python",
   "nbconvert_exporter": "python",
   "pygments_lexer": "ipython3",
   "version": "3.10.12"
  }
 },
 "nbformat": 4,
 "nbformat_minor": 5
}
